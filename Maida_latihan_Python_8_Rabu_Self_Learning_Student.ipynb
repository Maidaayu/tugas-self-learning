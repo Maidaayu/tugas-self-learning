{
  "nbformat": 4,
  "nbformat_minor": 0,
  "metadata": {
    "colab": {
      "provenance": [],
      "authorship_tag": "ABX9TyOKvkdFYFzN6TUHInKV6J92",
      "include_colab_link": true
    },
    "kernelspec": {
      "name": "python3",
      "display_name": "Python 3"
    },
    "language_info": {
      "name": "python"
    }
  },
  "cells": [
    {
      "cell_type": "markdown",
      "metadata": {
        "id": "view-in-github",
        "colab_type": "text"
      },
      "source": [
        "<a href=\"https://colab.research.google.com/github/Maidaayu/tugas-self-learning/blob/main/Maida_latihan_Python_8_Rabu_Self_Learning_Student.ipynb\" target=\"_parent\"><img src=\"https://colab.research.google.com/assets/colab-badge.svg\" alt=\"Open In Colab\"/></a>"
      ]
    },
    {
      "cell_type": "markdown",
      "source": [
        "ASSIGNMENT"
      ],
      "metadata": {
        "id": "YlrglaBWZT_b"
      }
    },
    {
      "cell_type": "markdown",
      "source": [
        "Jawablah pertanyaan-pertanyaan berikut dengan SQL.\n",
        "\n",
        "1. Tampilkan data customer yg mempunyai opening amount diatas 7000.\n",
        "\n",
        "2. Tampilkan informasi order yg dilakukan melalui agensi dengan code A003.\n",
        "\n",
        "3. Tampilkan data customer yg tinggal di New York, Bangalore, Mumbai, dan Torento.\n",
        "\n",
        "4. Tampilkan informasi customer yang mempunyai payment amount diatas 7000 dan urutkan berdasarkan opening amountnya dari yg terbesar\n",
        "\n",
        "5. Tampilkan data agensi yang tidak bekerja di london dan memiliki comission lebih dari 0.12"
      ],
      "metadata": {
        "id": "qN4dXHXgZWeQ"
      }
    },
    {
      "cell_type": "markdown",
      "source": [
        "1. Tampilkan data customer yg mempunyai opening amount diatas 7000."
      ],
      "metadata": {
        "id": "bl3UtDyiZ5KT"
      }
    },
    {
      "cell_type": "code",
      "source": [
        "import sqlite3\n",
        "import pandas as pd\n",
        "\n",
        "connection = sqlite3.connect('data.sqlite')\n",
        "print(\"berhasil\");\n",
        "result = connection.cursor()"
      ],
      "metadata": {
        "colab": {
          "base_uri": "https://localhost:8080/"
        },
        "id": "I7TVOG3kZ_qg",
        "outputId": "996c2cfb-1d21-4c4d-8eb9-11e076412c19"
      },
      "execution_count": 1,
      "outputs": [
        {
          "output_type": "stream",
          "name": "stdout",
          "text": [
            "berhasil\n"
          ]
        }
      ]
    },
    {
      "cell_type": "code",
      "source": [
        "r_set = connection.execute('''SELECT * FROM customer WHERE OPENING_AMT > \"7000\"''')\n",
        "for row in r_set:\n",
        "  print(row)"
      ],
      "metadata": {
        "colab": {
          "base_uri": "https://localhost:8080/"
        },
        "id": "bF7n9l77aPdq",
        "outputId": "9b20b7d7-0671-445f-bc67-8c3a9c9894e9"
      },
      "execution_count": 4,
      "outputs": [
        {
          "output_type": "stream",
          "name": "stdout",
          "text": [
            "('C00003', 'Martin', 'Torento', 'Torento', 'Canada', '2', '8000.00', '7000.00', '7000.00', '8000.00', 'MJYURFD', 'A004')\n",
            "('C00005', 'Sasikant', 'Mumbai', 'Mumbai', 'India', '1', '7000.00', '11000.00', '7000.00', '11000.00', '147-25896312', 'A002')\n",
            "('C00007', 'Ramanathan', 'Chennai', 'Chennai', 'India', '1', '7000.00', '11000.00', '9000.00', '9000.00', 'GHRDWSD', 'A010')\n",
            "('C00008', 'Karolina', 'Torento', 'Torento', 'Canada', '1', '7000.00', '7000.00', '9000.00', '5000.00', 'HJKORED', 'A004')\n",
            "('C00009', 'Ramesh', 'Mumbai', 'Mumbai', 'India', '3', '8000.00', '7000.00', '3000.00', '12000.00', 'Phone No', 'A002')\n",
            "('C00011', 'Sundariya', 'Chennai', 'Chennai', 'India', '3', '7000.00', '11000.00', '7000.00', '11000.00', 'PPHGRTS', 'A010')\n",
            "('C00014', 'Rangarappa', 'Bangalore', 'Bangalore', 'India', '2', '8000.00', '11000.00', '7000.00', '12000.00', 'AAAATGF', 'A001')\n",
            "('C00016', 'Venkatpati', 'Bangalore', 'Bangalore', 'India', '2', '8000.00', '11000.00', '7000.00', '12000.00', 'JRTVFDD', 'A007')\n",
            "('C00017', 'Srinivas', 'Bangalore', 'Bangalore', 'India', '2', '8000.00', '4000.00', '3000.00', '9000.00', 'AAAAAAB', 'A007')\n",
            "('C00018', 'Fleming', 'Brisban', 'Brisban', 'Australia', '2', '7000.00', '7000.00', '9000.00', '5000.00', 'NHBGVFC', 'A005')\n",
            "('C00019', 'Yearannaidu', 'Chennai', 'Chennai', 'India', '1', '8000.00', '7000.00', '7000.00', '8000.00', 'ZZZZBFV', 'A010')\n",
            "('C00021', 'Jacks', 'Brisban', 'Brisban', 'Australia', '1', '7000.00', '7000.00', '7000.00', '7000.00', 'WERTGDF', 'A005')\n",
            "('C00022', 'Avinash', 'Mumbai', 'Mumbai', 'India', '2', '7000.00', '11000.00', '9000.00', '9000.00', '113-12345678', 'A002')\n"
          ]
        }
      ]
    },
    {
      "cell_type": "markdown",
      "source": [
        "1. Tampilkan informasi order yg dilakukan melalui agensi dengan code A003."
      ],
      "metadata": {
        "id": "mq_X6OnwisCg"
      }
    },
    {
      "cell_type": "code",
      "source": [
        "r_set = connection.execute('''SELECT * FROM orders WHERE AGENT_CODE=\"A003\"''')\n",
        "for row in r_set:\n",
        "  print(row)"
      ],
      "metadata": {
        "id": "vUT76Cugh9Ba",
        "outputId": "b41e479e-f26a-484d-80c8-a823816108c0",
        "colab": {
          "base_uri": "https://localhost:8080/"
        }
      },
      "execution_count": 5,
      "outputs": [
        {
          "output_type": "stream",
          "name": "stdout",
          "text": [
            "('200100', '1000.00', '600.00', '', 'C00013', 'A003', 'SOD')\n",
            "('200127', '2500.00', '400.00', '', 'C00015', 'A003', 'SOD')\n"
          ]
        }
      ]
    },
    {
      "cell_type": "markdown",
      "source": [
        "1. Tampilkan data customer yg tinggal di New York, Bangalore, Mumbai, dan Torento."
      ],
      "metadata": {
        "id": "olYXKAXvinEi"
      }
    },
    {
      "cell_type": "code",
      "source": [
        "r_set = connection.execute('''SELECT * FROM customer WHERE WORKING_AREA IN ('New York','Bangalore','Torento')''')\n",
        "for row in r_set:\n",
        "  print(row)"
      ],
      "metadata": {
        "id": "v--t1QEfiFBS",
        "outputId": "bafdbc93-0021-4b63-9fc4-534c0c8e8658",
        "colab": {
          "base_uri": "https://localhost:8080/"
        }
      },
      "execution_count": 6,
      "outputs": [
        {
          "output_type": "stream",
          "name": "stdout",
          "text": [
            "('C00001', 'Micheal', 'New York', 'New York', 'USA', '2', '3000.00', '5000.00', '2000.00', '6000.00', 'CCCCCCC', 'A008')\n",
            "('C00002', 'Bolt', 'New York', 'New York', 'USA', '3', '5000.00', '7000.00', '9000.00', '3000.00', 'DDNRDRH', 'A008')\n",
            "('C00003', 'Martin', 'Torento', 'Torento', 'Canada', '2', '8000.00', '7000.00', '7000.00', '8000.00', 'MJYURFD', 'A004')\n",
            "('C00006', 'Shilton', 'Torento', 'Torento', 'Canada', '1', '10000.00', '7000.00', '6000.00', '11000.00', 'DDDDDDD', 'A004')\n",
            "('C00008', 'Karolina', 'Torento', 'Torento', 'Canada', '1', '7000.00', '7000.00', '9000.00', '5000.00', 'HJKORED', 'A004')\n",
            "('C00014', 'Rangarappa', 'Bangalore', 'Bangalore', 'India', '2', '8000.00', '11000.00', '7000.00', '12000.00', 'AAAATGF', 'A001')\n",
            "('C00016', 'Venkatpati', 'Bangalore', 'Bangalore', 'India', '2', '8000.00', '11000.00', '7000.00', '12000.00', 'JRTVFDD', 'A007')\n",
            "('C00017', 'Srinivas', 'Bangalore', 'Bangalore', 'India', '2', '8000.00', '4000.00', '3000.00', '9000.00', 'AAAAAAB', 'A007')\n",
            "('C00020', 'Albert', 'New York', 'New York', 'USA', '3', '5000.00', '7000.00', '6000.00', '6000.00', 'BBBBSBB', 'A008')\n",
            "('C00025', 'Ravindran', 'Bangalore', 'Bangalore', 'India', '2', '5000.00', '7000.00', '4000.00', '8000.00', 'AVAVAVA', 'A011')\n"
          ]
        }
      ]
    },
    {
      "cell_type": "markdown",
      "source": [
        "1. Tampilkan informasi customer yang mempunyai payment amount diatas 7000 dan urutkan berdasarkan opening amountnya dari yg terbesar"
      ],
      "metadata": {
        "id": "f4E7Dx1NieFC"
      }
    },
    {
      "cell_type": "code",
      "source": [
        "r_set = connection.execute('''SELECT * FROM agents WHERE WORKING_AREA NOT IN ('London') AND COMMISSION > 0.12''')\n",
        "for row in r_set:\n",
        "  print(row)"
      ],
      "metadata": {
        "id": "cH-yLla8iJO0",
        "outputId": "aabb5f3e-f15f-4100-a9e7-b4c4e5e1df50",
        "colab": {
          "base_uri": "https://localhost:8080/"
        }
      },
      "execution_count": 7,
      "outputs": [
        {
          "output_type": "stream",
          "name": "stdout",
          "text": [
            "('A001', 'Subbarao', 'Bangalore', '0.14', '077-12346674', '')\n",
            "('A002', 'Mukesh', 'Mumbai', '0.11', '029-12358964', '')\n",
            "('A004', 'Ivan', 'Torento', '0.15', '008-22544166', '')\n",
            "('A005', 'Anderson', 'Brisban', '0.13', '045-21447739', '')\n",
            "('A007', 'Ramasundar', 'Bangalore', '0.15', '077-25814763', '')\n",
            "('A008', 'Alford', 'New York', '0.12', '044-25874365', '')\n",
            "('A009', 'Benjamin', 'Hampshair', '0.11', '008-22536178', '')\n",
            "('A010', 'Santakumar', 'Chennai', '0.14', '007-22388644', '')\n",
            "('A011', 'Ravi Kumar', 'Bangalore', '0.15', '077-45625874', '')\n",
            "('A012', 'Lucida', 'San Jose', '0.12', '044-52981425', '')\n"
          ]
        }
      ]
    },
    {
      "cell_type": "markdown",
      "source": [
        "1. Tampilkan data agensi yang tidak bekerja di london dan memiliki comission lebih dari 0.12"
      ],
      "metadata": {
        "id": "w8GASyr0iWeb"
      }
    },
    {
      "cell_type": "code",
      "source": [
        "r_set = connection.execute('''SELECT * FROM customer WHERE PAYMENT_AMT > \"7000\" ORDER BY OPENING_AMT ASC''')\n",
        "for row in r_set:\n",
        "  print(row)"
      ],
      "metadata": {
        "id": "6Xlw55fRiPIk",
        "outputId": "c86b83ce-e130-4793-f27c-e4eef5da37a7",
        "colab": {
          "base_uri": "https://localhost:8080/"
        }
      },
      "execution_count": 8,
      "outputs": [
        {
          "output_type": "stream",
          "name": "stdout",
          "text": [
            "('C00023', 'Karl', 'London', 'London', 'UK', '0', '4000.00', '6000.00', '7000.00', '3000.00', 'AAAABAA', 'A006')\n",
            "('C00024', 'Cook', 'London', 'London', 'UK', '2', '4000.00', '9000.00', '7000.00', '6000.00', 'FSDDSDF', 'A006')\n",
            "('C00002', 'Bolt', 'New York', 'New York', 'USA', '3', '5000.00', '7000.00', '9000.00', '3000.00', 'DDNRDRH', 'A008')\n",
            "('C00004', 'Winston', 'Brisban', 'Brisban', 'Australia', '1', '5000.00', '8000.00', '7000.00', '6000.00', 'AAAAAAA', 'A005')\n",
            "('C00012', 'Steven', 'San Jose', 'San Jose', 'USA', '1', '5000.00', '7000.00', '9000.00', '3000.00', 'KRFYGJK', 'A012')\n",
            "('C00013', 'Holmes', 'London', 'London', 'UK', '2', '6000.00', '5000.00', '7000.00', '4000.00', 'BBBBBBB', 'A003')\n",
            "('C00005', 'Sasikant', 'Mumbai', 'Mumbai', 'India', '1', '7000.00', '11000.00', '7000.00', '11000.00', '147-25896312', 'A002')\n",
            "('C00007', 'Ramanathan', 'Chennai', 'Chennai', 'India', '1', '7000.00', '11000.00', '9000.00', '9000.00', 'GHRDWSD', 'A010')\n",
            "('C00008', 'Karolina', 'Torento', 'Torento', 'Canada', '1', '7000.00', '7000.00', '9000.00', '5000.00', 'HJKORED', 'A004')\n",
            "('C00011', 'Sundariya', 'Chennai', 'Chennai', 'India', '3', '7000.00', '11000.00', '7000.00', '11000.00', 'PPHGRTS', 'A010')\n",
            "('C00018', 'Fleming', 'Brisban', 'Brisban', 'Australia', '2', '7000.00', '7000.00', '9000.00', '5000.00', 'NHBGVFC', 'A005')\n",
            "('C00021', 'Jacks', 'Brisban', 'Brisban', 'Australia', '1', '7000.00', '7000.00', '7000.00', '7000.00', 'WERTGDF', 'A005')\n",
            "('C00022', 'Avinash', 'Mumbai', 'Mumbai', 'India', '2', '7000.00', '11000.00', '9000.00', '9000.00', '113-12345678', 'A002')\n",
            "('C00003', 'Martin', 'Torento', 'Torento', 'Canada', '2', '8000.00', '7000.00', '7000.00', '8000.00', 'MJYURFD', 'A004')\n",
            "('C00014', 'Rangarappa', 'Bangalore', 'Bangalore', 'India', '2', '8000.00', '11000.00', '7000.00', '12000.00', 'AAAATGF', 'A001')\n",
            "('C00016', 'Venkatpati', 'Bangalore', 'Bangalore', 'India', '2', '8000.00', '11000.00', '7000.00', '12000.00', 'JRTVFDD', 'A007')\n",
            "('C00019', 'Yearannaidu', 'Chennai', 'Chennai', 'India', '1', '8000.00', '7000.00', '7000.00', '8000.00', 'ZZZZBFV', 'A010')\n"
          ]
        }
      ]
    }
  ]
}