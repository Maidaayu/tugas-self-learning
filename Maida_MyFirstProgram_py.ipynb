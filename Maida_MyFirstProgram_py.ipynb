{
  "nbformat": 4,
  "nbformat_minor": 0,
  "metadata": {
    "colab": {
      "name": "Maida_MyFirstProgram_py.ipynb",
      "provenance": [],
      "collapsed_sections": [],
      "authorship_tag": "ABX9TyM18U7GCXhioCrPpovUfMGK",
      "include_colab_link": true
    },
    "kernelspec": {
      "name": "python3",
      "display_name": "Python 3"
    },
    "language_info": {
      "name": "python"
    }
  },
  "cells": [
    {
      "cell_type": "markdown",
      "metadata": {
        "id": "view-in-github",
        "colab_type": "text"
      },
      "source": [
        "<a href=\"https://colab.research.google.com/github/Maidaayu/tugas-self-learning/blob/main/Maida_MyFirstProgram_py.ipynb\" target=\"_parent\"><img src=\"https://colab.research.google.com/assets/colab-badge.svg\" alt=\"Open In Colab\"/></a>"
      ]
    },
    {
      "cell_type": "markdown",
      "source": [
        "Variabel"
      ],
      "metadata": {
        "id": "Y7DYPcnkwWTp"
      }
    },
    {
      "cell_type": "code",
      "source": [
        "nama = 'Maida'\n",
        "nama_lengkap = \"Maida Ayu Putri\"\n",
        "batch = 50\n",
        "_constant = 3.14\n",
        "alpha = 0.01\n",
        "st0p_pr0cess = False"
      ],
      "metadata": {
        "id": "rd-ET_zLwscB"
      },
      "execution_count": 1,
      "outputs": []
    },
    {
      "cell_type": "code",
      "source": [
        "4lgoritma = 'Support Vector Machine'"
      ],
      "metadata": {
        "colab": {
          "base_uri": "https://localhost:8080/",
          "height": 130
        },
        "id": "OGbVTNvWw_pA",
        "outputId": "7960a1b1-e233-454b-c3af-3a7888f317d0"
      },
      "execution_count": 2,
      "outputs": [
        {
          "output_type": "error",
          "ename": "SyntaxError",
          "evalue": "ignored",
          "traceback": [
            "\u001b[0;36m  File \u001b[0;32m\"<ipython-input-2-1e55b495a639>\"\u001b[0;36m, line \u001b[0;32m1\u001b[0m\n\u001b[0;31m    4lgoritma = 'Support Vector Machine'\u001b[0m\n\u001b[0m            ^\u001b[0m\n\u001b[0;31mSyntaxError\u001b[0m\u001b[0;31m:\u001b[0m invalid syntax\n"
          ]
        }
      ]
    },
    {
      "cell_type": "markdown",
      "source": [
        "'4lgoritma' tidak mau dirun karena penamaan variabel tidak sesuai kaidah penamaan pada python. salah satunya tidak boleh ada angka."
      ],
      "metadata": {
        "id": "j61Psa8NxDw8"
      }
    },
    {
      "cell_type": "code",
      "source": [
        "diskon% = 0.25"
      ],
      "metadata": {
        "colab": {
          "base_uri": "https://localhost:8080/",
          "height": 130
        },
        "id": "bkaUC1qrxIM0",
        "outputId": "d5b2ffb7-c228-4b02-e12c-5a81ac976310"
      },
      "execution_count": 3,
      "outputs": [
        {
          "output_type": "error",
          "ename": "SyntaxError",
          "evalue": "ignored",
          "traceback": [
            "\u001b[0;36m  File \u001b[0;32m\"<ipython-input-3-2da0156a0823>\"\u001b[0;36m, line \u001b[0;32m1\u001b[0m\n\u001b[0;31m    diskon% = 0.25\u001b[0m\n\u001b[0m            ^\u001b[0m\n\u001b[0;31mSyntaxError\u001b[0m\u001b[0;31m:\u001b[0m invalid syntax\n"
          ]
        }
      ]
    },
    {
      "cell_type": "markdown",
      "source": [
        "hal serupa juga terjadi pada sintaks di atas. selain tidak boleh mengunakan angka, penamaan python juga tidak boleh menggunakan tanda khusus selain (_)"
      ],
      "metadata": {
        "id": "WE3V3kIkxMnF"
      }
    },
    {
      "cell_type": "code",
      "source": [
        "kode Materi = 'RB-1-1'"
      ],
      "metadata": {
        "colab": {
          "base_uri": "https://localhost:8080/",
          "height": 130
        },
        "id": "brBPFQocxROZ",
        "outputId": "866cba7c-733a-48ee-8d15-5158904c3dd8"
      },
      "execution_count": 4,
      "outputs": [
        {
          "output_type": "error",
          "ename": "SyntaxError",
          "evalue": "ignored",
          "traceback": [
            "\u001b[0;36m  File \u001b[0;32m\"<ipython-input-4-8f85ac11df12>\"\u001b[0;36m, line \u001b[0;32m1\u001b[0m\n\u001b[0;31m    kode Materi = 'RB-1-1'\u001b[0m\n\u001b[0m              ^\u001b[0m\n\u001b[0;31mSyntaxError\u001b[0m\u001b[0;31m:\u001b[0m invalid syntax\n"
          ]
        }
      ]
    },
    {
      "cell_type": "markdown",
      "source": [
        "penamaan variabel python juga tidak boleh ada spasi."
      ],
      "metadata": {
        "id": "fvk4TTbPxbLD"
      }
    },
    {
      "cell_type": "markdown",
      "source": [
        "Integer (int)"
      ],
      "metadata": {
        "id": "aMWjnCykxqg6"
      }
    },
    {
      "cell_type": "code",
      "source": [
        "nilai = 90\n",
        "type(nilai)"
      ],
      "metadata": {
        "colab": {
          "base_uri": "https://localhost:8080/"
        },
        "id": "7hB0EiQPxwx5",
        "outputId": "15df3ca5-e9da-4040-d7ae-ea3180fcc89e"
      },
      "execution_count": 5,
      "outputs": [
        {
          "output_type": "execute_result",
          "data": {
            "text/plain": [
              "int"
            ]
          },
          "metadata": {},
          "execution_count": 5
        }
      ]
    },
    {
      "cell_type": "code",
      "source": [
        "suhu = 37\n",
        "type(suhu)"
      ],
      "metadata": {
        "colab": {
          "base_uri": "https://localhost:8080/"
        },
        "id": "Wx7v_esR3l3l",
        "outputId": "f8bd4c4a-7e14-49ae-a5b0-f37819ff9f37"
      },
      "execution_count": 6,
      "outputs": [
        {
          "output_type": "execute_result",
          "data": {
            "text/plain": [
              "int"
            ]
          },
          "metadata": {},
          "execution_count": 6
        }
      ]
    },
    {
      "cell_type": "code",
      "source": [
        "tinggi_badan = 70\n",
        "type(tinggi_badan)"
      ],
      "metadata": {
        "colab": {
          "base_uri": "https://localhost:8080/"
        },
        "id": "U4JtlsSy31iY",
        "outputId": "0e11cd56-87b5-4164-b0c2-e946c1506cd5"
      },
      "execution_count": 7,
      "outputs": [
        {
          "output_type": "execute_result",
          "data": {
            "text/plain": [
              "int"
            ]
          },
          "metadata": {},
          "execution_count": 7
        }
      ]
    },
    {
      "cell_type": "code",
      "source": [
        "berat_badan = 70\n",
        "type(berat_badan)"
      ],
      "metadata": {
        "colab": {
          "base_uri": "https://localhost:8080/"
        },
        "id": "ahYFBsVN367V",
        "outputId": "e690179c-4491-41d3-e501-789844f8d6dd"
      },
      "execution_count": 8,
      "outputs": [
        {
          "output_type": "execute_result",
          "data": {
            "text/plain": [
              "int"
            ]
          },
          "metadata": {},
          "execution_count": 8
        }
      ]
    },
    {
      "cell_type": "code",
      "source": [
        "label = 1\n",
        "type(label)"
      ],
      "metadata": {
        "colab": {
          "base_uri": "https://localhost:8080/"
        },
        "id": "dB8xumpp39xm",
        "outputId": "c712a490-4e24-4019-ff42-348782e1a596"
      },
      "execution_count": 9,
      "outputs": [
        {
          "output_type": "execute_result",
          "data": {
            "text/plain": [
              "int"
            ]
          },
          "metadata": {},
          "execution_count": 9
        }
      ]
    },
    {
      "cell_type": "markdown",
      "source": [
        "Float"
      ],
      "metadata": {
        "id": "0xi-eihX4C0v"
      }
    },
    {
      "cell_type": "code",
      "source": [
        "phi = 3.14\n",
        "type(phi)"
      ],
      "metadata": {
        "colab": {
          "base_uri": "https://localhost:8080/"
        },
        "id": "mu4L7ZAz4Eh4",
        "outputId": "6df00e1b-f30c-4aaa-b2e3-c6c8ee27e042"
      },
      "execution_count": 10,
      "outputs": [
        {
          "output_type": "execute_result",
          "data": {
            "text/plain": [
              "float"
            ]
          },
          "metadata": {},
          "execution_count": 10
        }
      ]
    },
    {
      "cell_type": "code",
      "source": [
        "gravitasi = 9.8\n",
        "type(gravitasi)"
      ],
      "metadata": {
        "colab": {
          "base_uri": "https://localhost:8080/"
        },
        "id": "Ic4ukWRE4J3I",
        "outputId": "1783b7d6-3b43-41b5-df76-5f2af209c9d7"
      },
      "execution_count": 11,
      "outputs": [
        {
          "output_type": "execute_result",
          "data": {
            "text/plain": [
              "float"
            ]
          },
          "metadata": {},
          "execution_count": 11
        }
      ]
    },
    {
      "cell_type": "code",
      "source": [
        "IPK = 4.0\n",
        "type(IPK)"
      ],
      "metadata": {
        "colab": {
          "base_uri": "https://localhost:8080/"
        },
        "id": "_UNVSld04SXg",
        "outputId": "fe6ada2e-2547-4ccf-f7e4-a1bd932a21ab"
      },
      "execution_count": 12,
      "outputs": [
        {
          "output_type": "execute_result",
          "data": {
            "text/plain": [
              "float"
            ]
          },
          "metadata": {},
          "execution_count": 12
        }
      ]
    },
    {
      "cell_type": "code",
      "source": [
        "temperature = -12.3\n",
        "type(temperature)"
      ],
      "metadata": {
        "colab": {
          "base_uri": "https://localhost:8080/"
        },
        "id": "JI6Lm9aT4WHn",
        "outputId": "a677e442-8579-4e33-e5bd-186bba9fadee"
      },
      "execution_count": 13,
      "outputs": [
        {
          "output_type": "execute_result",
          "data": {
            "text/plain": [
              "float"
            ]
          },
          "metadata": {},
          "execution_count": 13
        }
      ]
    },
    {
      "cell_type": "code",
      "source": [
        "curah_hujan = 1043.2\n",
        "type(curah_hujan)"
      ],
      "metadata": {
        "colab": {
          "base_uri": "https://localhost:8080/"
        },
        "id": "J-KWHtYC4aWv",
        "outputId": "8571cda3-d8cd-4979-aa3c-8de89f027694"
      },
      "execution_count": 14,
      "outputs": [
        {
          "output_type": "execute_result",
          "data": {
            "text/plain": [
              "float"
            ]
          },
          "metadata": {},
          "execution_count": 14
        }
      ]
    },
    {
      "cell_type": "markdown",
      "source": [
        "String (str)"
      ],
      "metadata": {
        "id": "1TGB9Kto4euq"
      }
    },
    {
      "cell_type": "code",
      "source": [
        "NIM = '02016470066'\n",
        "type(NIM)"
      ],
      "metadata": {
        "colab": {
          "base_uri": "https://localhost:8080/"
        },
        "id": "-hF5mlYY4ipd",
        "outputId": "0bdbaf65-5b83-48e5-d118-ac3162a9f8ed"
      },
      "execution_count": 15,
      "outputs": [
        {
          "output_type": "execute_result",
          "data": {
            "text/plain": [
              "str"
            ]
          },
          "metadata": {},
          "execution_count": 15
        }
      ]
    },
    {
      "cell_type": "code",
      "source": [
        "program = \"Foundation of AI and Life skills for Gen-Z\"\n",
        "type(program)"
      ],
      "metadata": {
        "colab": {
          "base_uri": "https://localhost:8080/"
        },
        "id": "VvieY4XO4ojR",
        "outputId": "25e36ba6-3e14-4bdc-e95a-5a13d32ba0c2"
      },
      "execution_count": 16,
      "outputs": [
        {
          "output_type": "execute_result",
          "data": {
            "text/plain": [
              "str"
            ]
          },
          "metadata": {},
          "execution_count": 16
        }
      ]
    },
    {
      "cell_type": "code",
      "source": [
        "referensi = \"dasar pemrograman python 3\"\n",
        "type(referensi)"
      ],
      "metadata": {
        "colab": {
          "base_uri": "https://localhost:8080/"
        },
        "id": "-tDgEGli4thV",
        "outputId": "bda44f15-f5d4-47ba-a501-d2aa27e71707"
      },
      "execution_count": 17,
      "outputs": [
        {
          "output_type": "execute_result",
          "data": {
            "text/plain": [
              "str"
            ]
          },
          "metadata": {},
          "execution_count": 17
        }
      ]
    },
    {
      "cell_type": "code",
      "source": [
        "nama_kelas = 'Nurion'\n",
        "type(nama_kelas)"
      ],
      "metadata": {
        "colab": {
          "base_uri": "https://localhost:8080/"
        },
        "id": "fqkdkbae4xeZ",
        "outputId": "8d3bbf43-a971-4be0-b58d-d160c2b5bd39"
      },
      "execution_count": 18,
      "outputs": [
        {
          "output_type": "execute_result",
          "data": {
            "text/plain": [
              "str"
            ]
          },
          "metadata": {},
          "execution_count": 18
        }
      ]
    },
    {
      "cell_type": "code",
      "source": [
        "tweet = 'Conggraduation ;)'\n",
        "type(tweet)"
      ],
      "metadata": {
        "colab": {
          "base_uri": "https://localhost:8080/"
        },
        "id": "cu-JlWSz42Ig",
        "outputId": "4fc4a693-117e-442f-d61e-0a4b60b6cf59"
      },
      "execution_count": 19,
      "outputs": [
        {
          "output_type": "execute_result",
          "data": {
            "text/plain": [
              "str"
            ]
          },
          "metadata": {},
          "execution_count": 19
        }
      ]
    },
    {
      "cell_type": "code",
      "source": [
        "reviews = \"\"\"kehidupan manusia telah dipenuhi oleh Artficial Intelligence. kita telah hidup dalam dunia yang sudah dan akan terus menjadi AI dependent. \n",
        "Dunia membutuhkan generasi yang memiliki keterampilan AI yang dapat memberikan solusi \n",
        "dari permasalahan melauli inovasi atau bahkan invensi menggunakan AI\"\"\"\n",
        "type(reviews)"
      ],
      "metadata": {
        "colab": {
          "base_uri": "https://localhost:8080/"
        },
        "id": "uR1mw5hC46w5",
        "outputId": "4fe5c16b-b881-4596-80db-f0dd01a6d383"
      },
      "execution_count": 20,
      "outputs": [
        {
          "output_type": "execute_result",
          "data": {
            "text/plain": [
              "str"
            ]
          },
          "metadata": {},
          "execution_count": 20
        }
      ]
    },
    {
      "cell_type": "code",
      "source": [
        "sajak = '''\"Nisan\" - Chairil Anwar\n",
        "untuk Nenekanda\n",
        "Bukan kematian benar menusuk kalbu\n",
        "keridlaanmu menerima segala tiba\n",
        "tak kutahu setinggi it atas debu\n",
        "dan duka maha tuan bertakhta'''\n",
        "type(sajak)"
      ],
      "metadata": {
        "colab": {
          "base_uri": "https://localhost:8080/"
        },
        "id": "jkg2hXdy5ASs",
        "outputId": "6f1cb2f8-442b-48c1-c3d5-01b80eb92ebf"
      },
      "execution_count": 21,
      "outputs": [
        {
          "output_type": "execute_result",
          "data": {
            "text/plain": [
              "str"
            ]
          },
          "metadata": {},
          "execution_count": 21
        }
      ]
    },
    {
      "cell_type": "markdown",
      "source": [
        "Boolean"
      ],
      "metadata": {
        "id": "LThTidsJwas0"
      }
    },
    {
      "cell_type": "code",
      "source": [
        "mahasiswa_aktif = False\n",
        "type(mahasiswa_aktif)"
      ],
      "metadata": {
        "id": "9HQ7e4LDJyn6",
        "colab": {
          "base_uri": "https://localhost:8080/"
        },
        "outputId": "700c466c-820c-44aa-d31f-92fb88277b49"
      },
      "execution_count": null,
      "outputs": [
        {
          "output_type": "execute_result",
          "data": {
            "text/plain": [
              "bool"
            ]
          },
          "metadata": {},
          "execution_count": 8
        }
      ]
    },
    {
      "cell_type": "code",
      "source": [
        "lulus = True\n",
        "type(lulus)"
      ],
      "metadata": {
        "id": "kWd7I70oKjx1",
        "colab": {
          "base_uri": "https://localhost:8080/"
        },
        "outputId": "0d31625a-7c01-47fd-b9ed-7246cb2be3fd"
      },
      "execution_count": null,
      "outputs": [
        {
          "output_type": "execute_result",
          "data": {
            "text/plain": [
              "bool"
            ]
          },
          "metadata": {},
          "execution_count": 9
        }
      ]
    },
    {
      "cell_type": "code",
      "source": [
        "score = 65\n",
        "score = 75\n",
        "score = 80\n",
        "score = 90\n",
        "\n",
        "# periksa isi variable score\n",
        "score"
      ],
      "metadata": {
        "id": "yXlehFKVK4vc",
        "colab": {
          "base_uri": "https://localhost:8080/"
        },
        "outputId": "b0eec2c8-097d-43b4-d835-0c2dd1bfe0ce"
      },
      "execution_count": null,
      "outputs": [
        {
          "output_type": "execute_result",
          "data": {
            "text/plain": [
              "90"
            ]
          },
          "metadata": {},
          "execution_count": 10
        }
      ]
    },
    {
      "cell_type": "code",
      "source": [
        "wadah = 'Indonesia'\n",
        "type(wadah)"
      ],
      "metadata": {
        "id": "vC2dFEjdLOY1",
        "colab": {
          "base_uri": "https://localhost:8080/"
        },
        "outputId": "bd72fd1a-343c-4ef2-cd6d-3d8371f1e60b"
      },
      "execution_count": null,
      "outputs": [
        {
          "output_type": "execute_result",
          "data": {
            "text/plain": [
              "str"
            ]
          },
          "metadata": {},
          "execution_count": 11
        }
      ]
    },
    {
      "cell_type": "code",
      "source": [
        "wadah = True\n",
        "type(wadah)"
      ],
      "metadata": {
        "id": "NAKtCvdvLW2N",
        "colab": {
          "base_uri": "https://localhost:8080/"
        },
        "outputId": "fc3806ee-31a0-454a-f9e6-27218baefd55"
      },
      "execution_count": null,
      "outputs": [
        {
          "output_type": "execute_result",
          "data": {
            "text/plain": [
              "bool"
            ]
          },
          "metadata": {},
          "execution_count": 12
        }
      ]
    },
    {
      "cell_type": "code",
      "source": [
        "wadah = 273500000\n",
        "type(wadah)"
      ],
      "metadata": {
        "id": "nhoB_v-2Lix-",
        "colab": {
          "base_uri": "https://localhost:8080/"
        },
        "outputId": "9b7c7003-fae2-4c69-862e-a0358b3683ed"
      },
      "execution_count": null,
      "outputs": [
        {
          "output_type": "execute_result",
          "data": {
            "text/plain": [
              "int"
            ]
          },
          "metadata": {},
          "execution_count": 13
        }
      ]
    },
    {
      "cell_type": "code",
      "source": [
        "wadah = 5.02\n",
        "type(wadah)"
      ],
      "metadata": {
        "id": "Mxi8ySIGL7xe",
        "colab": {
          "base_uri": "https://localhost:8080/"
        },
        "outputId": "3c39d22f-8bf5-4299-8e92-ccfc45578c85"
      },
      "execution_count": null,
      "outputs": [
        {
          "output_type": "execute_result",
          "data": {
            "text/plain": [
              "float"
            ]
          },
          "metadata": {},
          "execution_count": 14
        }
      ]
    },
    {
      "cell_type": "code",
      "source": [
        "#Mencetak Variable\n",
        "nama = 'Asnawi Mangkualam'\n",
        "usia = 22\n",
        "bmi = 23.2\n",
        "timnas = True"
      ],
      "metadata": {
        "id": "4KfvQiG8MO3E"
      },
      "execution_count": null,
      "outputs": []
    },
    {
      "cell_type": "code",
      "source": [
        "print(nama)\n",
        "print(usia)\n",
        "print(bmi)\n",
        "print(timnas)\n"
      ],
      "metadata": {
        "id": "ZZPwgUsBMq8r",
        "colab": {
          "base_uri": "https://localhost:8080/"
        },
        "outputId": "f829a73f-568f-4a10-8ddb-2515be201525"
      },
      "execution_count": null,
      "outputs": [
        {
          "output_type": "stream",
          "name": "stdout",
          "text": [
            "Asnawi Mangkualam\n",
            "22\n",
            "23.2\n",
            "True\n"
          ]
        }
      ]
    },
    {
      "cell_type": "code",
      "source": [
        "print(\"Nama\\t\\t:\",nama)\n",
        "print(\"Usia\\t\\t:\", usia, 'tahun')\n",
        "print(\"BMI\\t\\t:\", bmi)\n",
        "print(\"Pemain Timnas\\t:\", timnas)"
      ],
      "metadata": {
        "id": "CiXzhOzGNHCF",
        "colab": {
          "base_uri": "https://localhost:8080/"
        },
        "outputId": "bdad327f-8279-42d1-e5aa-07a0419705fc"
      },
      "execution_count": null,
      "outputs": [
        {
          "output_type": "stream",
          "name": "stdout",
          "text": [
            "Nama\t\t: Asnawi Mangkualam\n",
            "Usia\t\t: 22 tahun\n",
            "BMI\t\t: 23.2\n",
            "Pemain Timnas\t: True\n"
          ]
        }
      ]
    },
    {
      "cell_type": "code",
      "source": [
        "#Menggunakan string formatting dengan bantuan simbol {}\n",
        "print(\"Nama/t/t: {}\".format(nama))\n",
        "print(\"Usia/t/t: {} tahun\".format(usia))\n",
        "print(\"BMI/t/t: {}\".format(bmi))\n",
        "print(\"Pemain Timnas/t: {}\".format(timnas))"
      ],
      "metadata": {
        "id": "vdiU-OJoPmHA",
        "colab": {
          "base_uri": "https://localhost:8080/"
        },
        "outputId": "139f13eb-a565-4185-8b64-fab3c0b6da74"
      },
      "execution_count": null,
      "outputs": [
        {
          "output_type": "stream",
          "name": "stdout",
          "text": [
            "Nama/t/t: Asnawi Mangkualam\n",
            "Usia/t/t: 22 tahun\n",
            "BMI/t/t: 23.2\n",
            "Pemain Timnas/t: True\n"
          ]
        }
      ]
    },
    {
      "cell_type": "code",
      "source": [
        "#Menggunakan f-string\n",
        "nama = 'Asnawi Mangkualam'\n",
        "usia = 22\n",
        "bmi = 23.2\n",
        "timnas = True\n",
        "\n",
        "print(f\"Nama/t/t: {nama}\")\n",
        "print(f\"Usia/t/t: {usia} tahun\")\n",
        "print(f\"BMI/t/t: {bmi}\")\n",
        "print(f\"Pemain Timnas/t: {timnas}\")"
      ],
      "metadata": {
        "id": "7dLanu7mV1oo",
        "colab": {
          "base_uri": "https://localhost:8080/"
        },
        "outputId": "08ebb8e2-03b0-4a86-efc8-5543a5554e8c"
      },
      "execution_count": null,
      "outputs": [
        {
          "output_type": "stream",
          "name": "stdout",
          "text": [
            "Nama/t/t: Asnawi Mangkualam\n",
            "Usia/t/t: 22 tahun\n",
            "BMI/t/t: 23.2\n",
            "Pemain Timnas/t: True\n"
          ]
        }
      ]
    },
    {
      "cell_type": "code",
      "source": [
        "panjang = 80\n",
        "lebar = 100\n",
        "\n",
        "panjang, lebar= lebar, panjang\n",
        "\n",
        "print(f\"panjang = {panjang}, lebar= {lebar}\")"
      ],
      "metadata": {
        "id": "-Ugfq98_W9sq",
        "colab": {
          "base_uri": "https://localhost:8080/"
        },
        "outputId": "f5029942-7243-4f4d-ddab-26daa0a9f3f2"
      },
      "execution_count": null,
      "outputs": [
        {
          "output_type": "stream",
          "name": "stdout",
          "text": [
            "panjang = 100, lebar= 80\n"
          ]
        }
      ]
    },
    {
      "cell_type": "markdown",
      "source": [
        "Case Sensitive"
      ],
      "metadata": {
        "id": "boAYXjxpXm9o"
      }
    },
    {
      "cell_type": "code",
      "source": [
        "Minggu = 1 \n",
        "topiK = 'MyFirstProgram.py'\n",
        "ModuleLink = 'https://www.orbitguru.org'\n",
        "\n",
        "print(f\"Lihat Materi minggu ke-{minggu}, tentang {topik}, di sini: {modulelink}\")\n",
        "\n",
        "#karena Python adalah programming languange yang case sensitive sehingga haru diperhatikan besar kecil pada huruf \n",
        "#kesalahan :\n",
        "# ada pada Minggu = 1 dimana yang benar minggu ( M nya harusnya kecil )\n",
        "# topiK = 'MyFirstProgram.py' harusnya topik \n",
        "# ModuleLink = 'https://www.orbitguru.org' harusnya modulelink"
      ],
      "metadata": {
        "id": "bbj-4AKMXqNB",
        "colab": {
          "base_uri": "https://localhost:8080/",
          "height": 235
        },
        "outputId": "bdd31897-ee10-45a6-c2e7-695eacff0827"
      },
      "execution_count": null,
      "outputs": [
        {
          "output_type": "error",
          "ename": "NameError",
          "evalue": "ignored",
          "traceback": [
            "\u001b[0;31m---------------------------------------------------------------------------\u001b[0m",
            "\u001b[0;31mNameError\u001b[0m                                 Traceback (most recent call last)",
            "\u001b[0;32m<ipython-input-20-0e1e827dae7b>\u001b[0m in \u001b[0;36m<module>\u001b[0;34m\u001b[0m\n\u001b[1;32m      3\u001b[0m \u001b[0mModuleLink\u001b[0m \u001b[0;34m=\u001b[0m \u001b[0;34m'https://www.orbitguru.org'\u001b[0m\u001b[0;34m\u001b[0m\u001b[0;34m\u001b[0m\u001b[0m\n\u001b[1;32m      4\u001b[0m \u001b[0;34m\u001b[0m\u001b[0m\n\u001b[0;32m----> 5\u001b[0;31m \u001b[0mprint\u001b[0m\u001b[0;34m(\u001b[0m\u001b[0;34mf\"Lihat Materi minggu ke-{minggu}, tentang {topik}, di sini: {modulelink}\"\u001b[0m\u001b[0;34m)\u001b[0m\u001b[0;34m\u001b[0m\u001b[0;34m\u001b[0m\u001b[0m\n\u001b[0m\u001b[1;32m      6\u001b[0m \u001b[0;34m\u001b[0m\u001b[0m\n\u001b[1;32m      7\u001b[0m \u001b[0;31m#karena Python adalah programming languange yang case sensitive sehingga haru diperhatikan besar kecil pada huruf\u001b[0m\u001b[0;34m\u001b[0m\u001b[0;34m\u001b[0m\u001b[0;34m\u001b[0m\u001b[0m\n",
            "\u001b[0;31mNameError\u001b[0m: name 'minggu' is not defined"
          ]
        }
      ]
    },
    {
      "cell_type": "markdown",
      "source": [
        "Menginput Nilai"
      ],
      "metadata": {
        "id": "Ww4g5NzOY3-y"
      }
    },
    {
      "cell_type": "code",
      "source": [
        "nama  = input('Nama\\t\\t\\t: ')\n",
        "usia = input('Usia\\t\\t\\t:')\n",
        "jenkel = input('Jenis Kelamin\\t\\t: ')\n",
        "Asal_PT = input('Asal perguruan tinggi \\t: ')\n",
        "prodi = input('Program studi\\t\\t: ')\n",
        "\n",
        "print(f\"\"\"\\nHalo! Perkenalkan, namaku {nama} dan usiaku {usia} tahun.\n",
        "Aku seorang {jenkel}.\n",
        "Saat ini, aku berkuliah di {Asal_PT}, jurusan {prodi}.\n",
        "Salam kenal!\n",
        "\"\"\")"
      ],
      "metadata": {
        "id": "a3MAOK-WY5Ce",
        "colab": {
          "base_uri": "https://localhost:8080/"
        },
        "outputId": "8f94dbe7-eb14-449d-8bcb-a1714ef0e4ba"
      },
      "execution_count": null,
      "outputs": [
        {
          "output_type": "stream",
          "name": "stdout",
          "text": [
            "Nama\t\t\t: Maida Ayu Putri\n",
            "Usia\t\t\t:20\n",
            "Jenis Kelamin\t\t: Perempuan\n",
            "Asal perguruan tinggi \t: Universitas Ibn Khaldun\n",
            "Program studi\t\t: Manajemen\n",
            "\n",
            "Halo! Perkenalkan, namaku Maida Ayu Putri dan usiaku 20 tahun.\n",
            "Aku seorang Perempuan.\n",
            "Saat ini, aku berkuliah di Universitas Ibn Khaldun, jurusan Manajemen.\n",
            "Salam kenal!\n",
            "\n"
          ]
        }
      ]
    },
    {
      "cell_type": "markdown",
      "source": [
        "Type Casting"
      ],
      "metadata": {
        "id": "_nQuCpHkcEFO"
      }
    },
    {
      "cell_type": "code",
      "source": [
        "tahun_lahir = input('Tahun lahir anda = ')\n",
        "type(tahun_lahir)"
      ],
      "metadata": {
        "id": "IL9avTmucKww",
        "colab": {
          "base_uri": "https://localhost:8080/"
        },
        "outputId": "aedb361f-2187-4bc7-f5b4-83024c382e81"
      },
      "execution_count": null,
      "outputs": [
        {
          "name": "stdout",
          "output_type": "stream",
          "text": [
            "Tahun lahir anda = 2002\n"
          ]
        },
        {
          "output_type": "execute_result",
          "data": {
            "text/plain": [
              "str"
            ]
          },
          "metadata": {},
          "execution_count": 22
        }
      ]
    },
    {
      "cell_type": "code",
      "source": [
        "tahun_lahir = input('Tahun lahir Anda = ')\n",
        "print('Usia Anda saat ini=', 2022 - tahun_lahir, 'tahun')\n",
        "\n",
        "#Karena operasi matematikanya tidak di masukkan pada suatu variabel, malah dituliskan secara langsung\n"
      ],
      "metadata": {
        "id": "yGP6laXtcbp7",
        "colab": {
          "base_uri": "https://localhost:8080/",
          "height": 235
        },
        "outputId": "84a7a088-15bb-4f32-eb15-ca702f8d14fd"
      },
      "execution_count": null,
      "outputs": [
        {
          "name": "stdout",
          "output_type": "stream",
          "text": [
            "Tahun lahir Anda = 2002\n"
          ]
        },
        {
          "output_type": "error",
          "ename": "TypeError",
          "evalue": "ignored",
          "traceback": [
            "\u001b[0;31m---------------------------------------------------------------------------\u001b[0m",
            "\u001b[0;31mTypeError\u001b[0m                                 Traceback (most recent call last)",
            "\u001b[0;32m<ipython-input-2-1188ba6b535e>\u001b[0m in \u001b[0;36m<module>\u001b[0;34m\u001b[0m\n\u001b[1;32m      1\u001b[0m \u001b[0mtahun_lahir\u001b[0m \u001b[0;34m=\u001b[0m \u001b[0minput\u001b[0m\u001b[0;34m(\u001b[0m\u001b[0;34m'Tahun lahir Anda = '\u001b[0m\u001b[0;34m)\u001b[0m\u001b[0;34m\u001b[0m\u001b[0;34m\u001b[0m\u001b[0m\n\u001b[0;32m----> 2\u001b[0;31m \u001b[0mprint\u001b[0m\u001b[0;34m(\u001b[0m\u001b[0;34m'Usia Anda saat ini='\u001b[0m\u001b[0;34m,\u001b[0m \u001b[0;36m2022\u001b[0m \u001b[0;34m-\u001b[0m \u001b[0mtahun_lahir\u001b[0m\u001b[0;34m,\u001b[0m \u001b[0;34m'tahun'\u001b[0m\u001b[0;34m)\u001b[0m\u001b[0;34m\u001b[0m\u001b[0;34m\u001b[0m\u001b[0m\n\u001b[0m\u001b[1;32m      3\u001b[0m \u001b[0;34m\u001b[0m\u001b[0m\n\u001b[1;32m      4\u001b[0m \u001b[0;31m#Karena operasi matematikanya tidak di masukkan pada suatu variabel, malah dituliskan secara langsung\u001b[0m\u001b[0;34m\u001b[0m\u001b[0;34m\u001b[0m\u001b[0;34m\u001b[0m\u001b[0m\n",
            "\u001b[0;31mTypeError\u001b[0m: unsupported operand type(s) for -: 'int' and 'str'"
          ]
        }
      ]
    },
    {
      "cell_type": "code",
      "source": [
        "#Type Casting\n",
        "accuracy = 93.845\n",
        "accuracy = int(accuracy) # float to int\n",
        "print(accuracy)"
      ],
      "metadata": {
        "id": "I4ul4NeWgv1V",
        "colab": {
          "base_uri": "https://localhost:8080/"
        },
        "outputId": "06239f8b-e3df-44ec-9f81-8cd19685edaa"
      },
      "execution_count": null,
      "outputs": [
        {
          "output_type": "stream",
          "name": "stdout",
          "text": [
            "93\n"
          ]
        }
      ]
    },
    {
      "cell_type": "code",
      "source": [
        "jumlah_data = 30\n",
        "jumlah_data = float(jumlah_data) # float to int\n",
        "print(jumlah_data)"
      ],
      "metadata": {
        "id": "OLKkqG7PhF0W",
        "colab": {
          "base_uri": "https://localhost:8080/"
        },
        "outputId": "066499f7-a9fa-4e14-cce3-014a1a6ef405"
      },
      "execution_count": null,
      "outputs": [
        {
          "output_type": "stream",
          "name": "stdout",
          "text": [
            "30.0\n"
          ]
        }
      ]
    },
    {
      "cell_type": "code",
      "source": [
        "pressure = '101.325'\n",
        "pressure = float(pressure) # float to int\n",
        "print(pressure)"
      ],
      "metadata": {
        "id": "yFO96K5fhe4x",
        "colab": {
          "base_uri": "https://localhost:8080/"
        },
        "outputId": "36381c0c-0117-4fa6-be52-264d7d8c83ed"
      },
      "execution_count": null,
      "outputs": [
        {
          "output_type": "stream",
          "name": "stdout",
          "text": [
            "101.325\n"
          ]
        }
      ]
    },
    {
      "cell_type": "code",
      "source": [
        "average = 0.0\n",
        "average = bool(average) # float to bool\n",
        "print(average)"
      ],
      "metadata": {
        "id": "5nXoAqemiE2i",
        "colab": {
          "base_uri": "https://localhost:8080/"
        },
        "outputId": "b529198b-b3bb-4512-aa93-b26ed70f9d39"
      },
      "execution_count": null,
      "outputs": [
        {
          "output_type": "stream",
          "name": "stdout",
          "text": [
            "False\n"
          ]
        }
      ]
    },
    {
      "cell_type": "code",
      "source": [
        "bidang = 'Artificial Intelligent'\n",
        "versi_int = int(bidang)\n",
        "versi_float = float(bidang)\n",
        "\n",
        "print(versi_int, 'dan', versi_int)"
      ],
      "metadata": {
        "id": "6rPN5S2_iTuD",
        "colab": {
          "base_uri": "https://localhost:8080/",
          "height": 235
        },
        "outputId": "8c19efa0-4fc6-4ec6-8b51-05fd19661fd4"
      },
      "execution_count": null,
      "outputs": [
        {
          "output_type": "error",
          "ename": "ValueError",
          "evalue": "ignored",
          "traceback": [
            "\u001b[0;31m---------------------------------------------------------------------------\u001b[0m",
            "\u001b[0;31mValueError\u001b[0m                                Traceback (most recent call last)",
            "\u001b[0;32m<ipython-input-7-d8ea97e64ded>\u001b[0m in \u001b[0;36m<module>\u001b[0;34m\u001b[0m\n\u001b[1;32m      1\u001b[0m \u001b[0mbidang\u001b[0m \u001b[0;34m=\u001b[0m \u001b[0;34m'Artificial Intelligent'\u001b[0m\u001b[0;34m\u001b[0m\u001b[0;34m\u001b[0m\u001b[0m\n\u001b[0;32m----> 2\u001b[0;31m \u001b[0mversi_int\u001b[0m \u001b[0;34m=\u001b[0m \u001b[0mint\u001b[0m\u001b[0;34m(\u001b[0m\u001b[0mbidang\u001b[0m\u001b[0;34m)\u001b[0m\u001b[0;34m\u001b[0m\u001b[0;34m\u001b[0m\u001b[0m\n\u001b[0m\u001b[1;32m      3\u001b[0m \u001b[0mversi_float\u001b[0m \u001b[0;34m=\u001b[0m \u001b[0mfloat\u001b[0m\u001b[0;34m(\u001b[0m\u001b[0mbidang\u001b[0m\u001b[0;34m)\u001b[0m\u001b[0;34m\u001b[0m\u001b[0;34m\u001b[0m\u001b[0m\n\u001b[1;32m      4\u001b[0m \u001b[0;34m\u001b[0m\u001b[0m\n\u001b[1;32m      5\u001b[0m \u001b[0mprint\u001b[0m\u001b[0;34m(\u001b[0m\u001b[0mversi_int\u001b[0m\u001b[0;34m,\u001b[0m \u001b[0;34m'dan'\u001b[0m\u001b[0;34m,\u001b[0m \u001b[0mversi_int\u001b[0m\u001b[0;34m)\u001b[0m\u001b[0;34m\u001b[0m\u001b[0;34m\u001b[0m\u001b[0m\n",
            "\u001b[0;31mValueError\u001b[0m: invalid literal for int() with base 10: 'Artificial Intelligent'"
          ]
        }
      ]
    },
    {
      "cell_type": "markdown",
      "source": [
        "Exercise"
      ],
      "metadata": {
        "id": "1MRs0_vj0Byz"
      }
    },
    {
      "cell_type": "code",
      "source": [
        "#Persegi\n",
        "s = 4\n",
        "keliling = 4*s\n",
        "luas = s*s\n",
        "print(keliling)\n",
        "print(luas)"
      ],
      "metadata": {
        "colab": {
          "base_uri": "https://localhost:8080/"
        },
        "id": "1U1vhVG_NAhE",
        "outputId": "d7763407-696b-4f76-a536-ece294954277"
      },
      "execution_count": null,
      "outputs": [
        {
          "output_type": "stream",
          "name": "stdout",
          "text": [
            "16\n",
            "16\n"
          ]
        }
      ]
    },
    {
      "cell_type": "code",
      "source": [
        "#Persegi Panjang\n",
        "p = 3\n",
        "l = 4\n",
        "keliling = 2*(p+l)\n",
        "luas = p * l\n",
        "print(keliling)\n",
        "print(luas)"
      ],
      "metadata": {
        "colab": {
          "base_uri": "https://localhost:8080/"
        },
        "id": "uVX--vwuNCyC",
        "outputId": "2aa98e3e-7984-400c-980a-d236963ce325"
      },
      "execution_count": null,
      "outputs": [
        {
          "output_type": "stream",
          "name": "stdout",
          "text": [
            "14\n",
            "12\n"
          ]
        }
      ]
    },
    {
      "cell_type": "code",
      "source": [
        "#Lingkaran\n",
        "r = 7\n",
        "pi = 22/7\n",
        "keliling = pi * r * r\n",
        "luas = 2 * pi * r\n",
        "print(keliling)\n",
        "print(luas)"
      ],
      "metadata": {
        "colab": {
          "base_uri": "https://localhost:8080/"
        },
        "id": "JuqeopCZNG_P",
        "outputId": "46fa8651-3cf8-4a42-a6d9-24210c9770d3"
      },
      "execution_count": null,
      "outputs": [
        {
          "output_type": "stream",
          "name": "stdout",
          "text": [
            "154.0\n",
            "44.0\n"
          ]
        }
      ]
    },
    {
      "cell_type": "code",
      "source": [
        "#Segitiga\n",
        "a = 6\n",
        "b = 5\n",
        "c = b\n",
        "t = 4\n",
        "keliling = a + b + c \n",
        "luas = 0.5 * a * t \n",
        "print(keliling)\n",
        "print(luas)"
      ],
      "metadata": {
        "colab": {
          "base_uri": "https://localhost:8080/"
        },
        "id": "PFjTqL5iNMup",
        "outputId": "f100b203-af9d-4e64-82e6-a5901ec0c55f"
      },
      "execution_count": null,
      "outputs": [
        {
          "output_type": "stream",
          "name": "stdout",
          "text": [
            "16\n",
            "12.0\n"
          ]
        }
      ]
    }
  ]
}